{
 "cells": [
  {
   "cell_type": "code",
   "execution_count": null,
   "metadata": {},
   "outputs": [],
   "source": [
    "from google.colab import drive\n",
    "drive.mount('/gdrive')"
   ]
  },
  {
   "cell_type": "code",
   "execution_count": null,
   "metadata": {},
   "outputs": [],
   "source": [
    "import os\n",
    "import pathlib\n",
    "\n",
    "if \"models\" in pathlib.Path.cwd().parts:\n",
    "    while \"models\" in pathlib.Path.cwd().parts:\n",
    "        os.chdir('..')\n",
    "elif not pathlib.Path('models').exists():\n",
    "    !git clone --depth 1 https://github.com/tensorflow/models"
   ]
  },
  {
   "cell_type": "code",
   "execution_count": null,
   "metadata": {},
   "outputs": [],
   "source": [
    "# Download a pretrained model from tensorflow model zoo\n",
    "!wget http://download.tensorflow.org/models/object_detection/tf2/20200711/efficientdet_d0_coco17_tpu-32.tar.gz\n",
    "!tar -xf efficientdet_d0_coco17_tpu-32.tar.gz\n",
    "!mv efficientdet_d0_coco17_tpu-32.tar.gz data/models/\n",
    "!rm efficientdet_d0_coco17_tpu-32.tar.gz"
   ]
  },
  {
   "cell_type": "code",
   "execution_count": null,
   "metadata": {},
   "outputs": [],
   "source": [
    "# load data from google drive for training\n",
    "!unzip -q ../../gdrive/My\\ Drive/oivd_data.zip -d  ../"
   ]
  },
  {
   "cell_type": "code",
   "execution_count": null,
   "metadata": {},
   "outputs": [],
   "source": [
    "!pip install pycocotools"
   ]
  },
  {
   "cell_type": "code",
   "execution_count": null,
   "metadata": {},
   "outputs": [],
   "source": [
    "# Install the Object Detection API\n",
    "%%bash\n",
    "cd models/research/\n",
    "protoc object_detection/protos/*.proto --python_out=.\n",
    "cp object_detection/packages/tf2/setup.py .\n",
    "python -m pip install ."
   ]
  },
  {
   "cell_type": "code",
   "execution_count": null,
   "metadata": {},
   "outputs": [],
   "source": [
    "import tensorflow as tf\n",
    "from object_detection import model_lib_v2"
   ]
  },
  {
   "cell_type": "code",
   "execution_count": null,
   "metadata": {},
   "outputs": [],
   "source": [
    "#Path to pipeline config file.\n",
    "pipeline_config_path=None\n",
    "#Number of train steps.\n",
    "num_train_steps=10\n",
    "#Enable evaluating on train data (only supported in distributed training).\n",
    "eval_on_train_data=False\n",
    "#Will sample one of every n eval input examples, where n is provided.\n",
    "sample_1_of_n_eval_examples= None\n",
    "#Will sample one of every n train input examples for evaluation, where n is provided. This is only used if `eval_training_data` is True.\n",
    "sample_1_of_n_eval_on_train_examples=5\n",
    "#where event and checkpoint files will be written.\n",
    "model_dir=None\n",
    "#Path to directory holding a checkpoint.  If `checkpoint_dir` is provided, this binary operates in eval-only mode, writing resulting metrics to `model_dir`.\n",
    "checkpoint_dir=None\n",
    "#Number of seconds to wait for an evaluation checkpoint before exiting.\n",
    "eval_timeout=3600\n",
    "#Whether the job is executing on a TPU.\n",
    "use_tpu=False\n",
    "#Name of the Cloud TPU for Cluster Resolvers. TPU is automatically inferred if tpu_name is None and if running under cloud ai-platform.\n",
    "tpu_name=None\n",
    "#When num_workers > 1, training uses MultiWorkerMirroredStrategy. When num_workers = 1 it uses MirroredStrategy.\n",
    "num_workers=1\n",
    "#Integer defining how often we checkpoint.\n",
    "checkpoint_every_n=1000\n",
    "#Whether or not to record summaries during training.\n",
    "record_summaries=True"
   ]
  },
  {
   "cell_type": "code",
   "execution_count": null,
   "metadata": {},
   "outputs": [],
   "source": [
    "tf.config.set_soft_device_placement(True)"
   ]
  },
  {
   "cell_type": "code",
   "execution_count": null,
   "metadata": {},
   "outputs": [],
   "source": [
    "if checkpoint_dir:\n",
    "    model_lib_v2.eval_continuously(\n",
    "        pipeline_config_path=pipeline_config_path,\n",
    "        model_dir=model_dir,\n",
    "        train_steps=num_train_steps,\n",
    "        sample_1_of_n_eval_examples=sample_1_of_n_eval_examples,\n",
    "        sample_1_of_n_eval_on_train_examples=(\n",
    "            sample_1_of_n_eval_on_train_examples),\n",
    "        checkpoint_dir=checkpoint_dir,\n",
    "        wait_interval=300, timeout=eval_timeout)\n",
    "else:\n",
    "    if use_tpu:\n",
    "        resolver = tf.distribute.cluster_resolver.TPUClusterResolver(\n",
    "        tpu_name)\n",
    "        tf.config.experimental_connect_to_cluster(resolver)\n",
    "        tf.tpu.experimental.initialize_tpu_system(resolver)\n",
    "        strategy = tf.distribute.experimental.TPUStrategy(resolver)\n",
    "    elif num_workers > 1:\n",
    "        strategy = tf.distribute.experimental.MultiWorkerMirroredStrategy()\n",
    "    else:\n",
    "        strategy = tf.compat.v2.distribute.MirroredStrategy()\n",
    "\n",
    "    with strategy.scope():\n",
    "        model_lib_v2.train_loop(\n",
    "            pipeline_config_path=pipeline_config_path,\n",
    "            model_dir=model_dir,\n",
    "            train_steps=num_train_steps,\n",
    "            use_tpu=use_tpu,\n",
    "            checkpoint_every_n=checkpoint_every_n,\n",
    "            record_summaries=record_summaries)"
   ]
  },
  {
   "cell_type": "code",
   "execution_count": null,
   "metadata": {
    "colab": {
     "base_uri": "https://localhost:8080/",
     "height": 122
    },
    "colab_type": "code",
    "id": "n57UYfJeo0JB",
    "outputId": "12451398-9a05-466a-e859-ff84283cadfd"
   },
   "outputs": [],
   "source": []
  },
  {
   "cell_type": "code",
   "execution_count": null,
   "metadata": {
    "colab": {
     "base_uri": "https://localhost:8080/",
     "height": 1000
    },
    "colab_type": "code",
    "id": "81_SrcbKmgge",
    "outputId": "a0e43f94-cb4f-48fe-bfb9-48f10dc7a38c"
   },
   "outputs": [],
   "source": [
    "!unzip ../../gdrive/My\\ Drive/oivd_data.zip -d  ../"
   ]
  },
  {
   "cell_type": "code",
   "execution_count": null,
   "metadata": {
    "colab": {},
    "colab_type": "code",
    "id": "yKdgB2efREd3"
   },
   "outputs": [],
   "source": [
    "import shutil"
   ]
  },
  {
   "cell_type": "code",
   "execution_count": null,
   "metadata": {
    "colab": {},
    "colab_type": "code",
    "id": "Z4tFT2btpEUb"
   },
   "outputs": [],
   "source": [
    "cp -r ../../gdrive/My\\ Drive/images ../"
   ]
  },
  {
   "cell_type": "code",
   "execution_count": null,
   "metadata": {
    "colab": {},
    "colab_type": "code",
    "id": "guAPjBuCP14H"
   },
   "outputs": [],
   "source": [
    "temp_path=os.getcwd()"
   ]
  },
  {
   "cell_type": "code",
   "execution_count": null,
   "metadata": {
    "colab": {},
    "colab_type": "code",
    "id": "FiSF3ZRHP5EV"
   },
   "outputs": [],
   "source": [
    "os.chdir(\"../\")"
   ]
  },
  {
   "cell_type": "code",
   "execution_count": null,
   "metadata": {
    "colab": {},
    "colab_type": "code",
    "id": "IHY_j3whmnTL"
   },
   "outputs": [],
   "source": [
    "path=\"OID/Dataset\"\n",
    "for dirpath,dirnames,filenames in os.walk(os.path.join(path,\"train\")):\n",
    "    for filename in filenames:\n",
    "        shutil.copy(os.path.join(dirpath,filename),os.path.join(\"images\",\"train\"))\n",
    "\n",
    "for dirpath,dirnames,filenames in os.walk(os.path.join(path,\"test\")):\n",
    "    for filename in filenames:\n",
    "        shutil.copy(os.path.join(dirpath,filename),os.path.join(\"images\",\"test\"))"
   ]
  },
  {
   "cell_type": "code",
   "execution_count": null,
   "metadata": {
    "colab": {},
    "colab_type": "code",
    "id": "2eMUcda0Sd3r"
   },
   "outputs": [],
   "source": [
    "!mv images/train survillence-system/data/images\n",
    "!mv images/test survillence-system/data/images"
   ]
  },
  {
   "cell_type": "code",
   "execution_count": null,
   "metadata": {
    "colab": {},
    "colab_type": "code",
    "id": "s3IX-sgYWhdV"
   },
   "outputs": [],
   "source": [
    "os.chdir(temp_path)"
   ]
  },
  {
   "cell_type": "code",
   "execution_count": null,
   "metadata": {
    "colab": {},
    "colab_type": "code",
    "id": "R7wmR7APXGyF"
   },
   "outputs": [],
   "source": [
    "import xml.etree.ElementTree as ET\n",
    "import glob\n",
    "\n",
    "path=\"data/images\"\n",
    "for xml_file in glob.glob(path +\"/train\" + '/*.xml'):\n",
    "        tree = ET.parse(xml_file)\n",
    "        root = tree.getroot()\n",
    "        for member in root.findall('object'):\n",
    "            text_to_save=root.find('filename').text.split(\".\")[0]\n",
    "            root.find('filename').text=text_to_save\n",
    "        tree.write(xml_file)\n",
    "\n",
    "for xml_file in glob.glob(path +\"/test\" + '/*.xml'):\n",
    "        tree = ET.parse(xml_file)\n",
    "        root = tree.getroot()\n",
    "        for member in root.findall('object'):\n",
    "            text_to_save=root.find('filename').text.split(\".\")[0]\n",
    "            root.find('filename').text=text_to_save\n",
    "        tree.write(xml_file)"
   ]
  },
  {
   "cell_type": "code",
   "execution_count": null,
   "metadata": {
    "colab": {
     "base_uri": "https://localhost:8080/",
     "height": 122
    },
    "colab_type": "code",
    "id": "b0XEeV9gUfeI",
    "outputId": "f401dc3b-a6a0-4254-ed44-d3d1e7be6ec6"
   },
   "outputs": [],
   "source": [
    "!python create_detection_data.py --classes=data/labels/animaltheft.names"
   ]
  },
  {
   "cell_type": "code",
   "execution_count": null,
   "metadata": {
    "colab": {
     "base_uri": "https://localhost:8080/",
     "height": 1000
    },
    "colab_type": "code",
    "id": "281n5lvWrV54",
    "outputId": "82f34172-b135-402d-cc3f-388eed15589f"
   },
   "outputs": [],
   "source": [
    "!python convert.py"
   ]
  },
  {
   "cell_type": "code",
   "execution_count": null,
   "metadata": {
    "colab": {
     "base_uri": "https://localhost:8080/",
     "height": 1000
    },
    "colab_type": "code",
    "id": "k8a5Hyeer-bj",
    "outputId": "676ab3a8-e6dc-4b0c-80c4-4996d1d54fff"
   },
   "outputs": [],
   "source": [
    "!python convert.py --tiny --output=models/checkpoints/yolov3_tiny/yolov3_tiny.tf --weights=weights/yolov3-tiny.weights"
   ]
  },
  {
   "cell_type": "code",
   "execution_count": null,
   "metadata": {
    "colab": {
     "base_uri": "https://localhost:8080/",
     "height": 34
    },
    "colab_type": "code",
    "id": "ma1wFsBe1cf6",
    "outputId": "709fb695-5090-459b-eed3-fdf63f5b5db2"
   },
   "outputs": [],
   "source": [
    "!ls models/checkpoints"
   ]
  },
  {
   "cell_type": "code",
   "execution_count": null,
   "metadata": {
    "colab": {
     "base_uri": "https://localhost:8080/",
     "height": 1000
    },
    "colab_type": "code",
    "id": "ZEJD8dHVq028",
    "outputId": "8494127c-5259-46da-9342-7c837af10606"
   },
   "outputs": [],
   "source": [
    "!python train.py --transfer=darknet --classes=data/labels/animaltheft.names --epochs=100 --batch_size=32 --weights=models/checkpoints/yolov3/yolov3.tf --output=models/checkpoints/theft --num_classes=3 --weights_num_classes=80"
   ]
  },
  {
   "cell_type": "code",
   "execution_count": null,
   "metadata": {
    "colab": {
     "base_uri": "https://localhost:8080/",
     "height": 238
    },
    "colab_type": "code",
    "id": "nCGSBx8D6bCY",
    "outputId": "53fae2aa-b143-49d2-b640-e9dc7b1b9f30"
   },
   "outputs": [],
   "source": [
    "!wget https://bin.equinox.io/c/4VmDzA7iaHb/ngrok-stable-linux-amd64.zip\n",
    "!unzip ngrok-stable-linux-amd64.zip"
   ]
  },
  {
   "cell_type": "code",
   "execution_count": null,
   "metadata": {
    "colab": {
     "base_uri": "https://localhost:8080/"
    },
    "colab_type": "code",
    "id": "l9rEtnhJ8g97",
    "outputId": "3669f6f4-4f63-4d46-db06-7cd9b933e4a1"
   },
   "outputs": [],
   "source": [
    "get_ipython().system_raw('./ngrok http 6006 &')\n",
    "!curl -s http://localhost:4040/api/tunnels | python3 -c \\\n",
    "    \"import sys, json; print(json.load(sys.stdin)['tunnels'][0]['public_url'])\""
   ]
  },
  {
   "cell_type": "code",
   "execution_count": null,
   "metadata": {
    "colab": {
     "base_uri": "https://localhost:8080/"
    },
    "colab_type": "code",
    "id": "WAop-sQi8cpg",
    "outputId": "799dbd1b-a502-4aea-bb08-0a5d668afa7d"
   },
   "outputs": [],
   "source": [
    "!tensorboard --logdir=logs --host 0.0.0.0"
   ]
  },
  {
   "cell_type": "code",
   "execution_count": null,
   "metadata": {
    "colab": {
     "base_uri": "https://localhost:8080/"
    },
    "colab_type": "code",
    "id": "CYLvmrjD044r",
    "outputId": "afa3e8b8-9792-4373-a079-ea683d5789d4"
   },
   "outputs": [],
   "source": [
    "!ls models/checkpoints"
   ]
  },
  {
   "cell_type": "code",
   "execution_count": null,
   "metadata": {
    "colab": {
     "base_uri": "https://localhost:8080/",
     "height": 340
    },
    "colab_type": "code",
    "id": "gNdVihv014o1",
    "outputId": "f0e7ec70-8747-4ff4-e521-b0bb65dd5844"
   },
   "outputs": [],
   "source": [
    "!ls models/checkpoints/theft/"
   ]
  },
  {
   "cell_type": "code",
   "execution_count": null,
   "metadata": {
    "colab": {
     "base_uri": "https://localhost:8080/",
     "height": 68
    },
    "colab_type": "code",
    "id": "13utL4kfzpPv",
    "outputId": "5fa6db22-92b9-4464-e9a6-c608648fbc57"
   },
   "outputs": [],
   "source": [
    "!zip val_best_theft.zip models/checkpoints/theft/yolov3_train_16.tf.index models/checkpoints/theft/yolov3_train_16.tf.data-00000-of-00002 models/checkpoints/theft/yolov3_train_16.tf.data-00001-of-00002"
   ]
  },
  {
   "cell_type": "code",
   "execution_count": null,
   "metadata": {
    "colab": {},
    "colab_type": "code",
    "id": "aUgKu4Si2yT4"
   },
   "outputs": [],
   "source": [
    "# !zip loss_best_theft.zip models/checkpoints/theft/yolov3_train_60.tf.index models/checkpoints/theft/yolov3_train_60.tf.data-00000-of-00002 models/checkpoints/theft/yolov3_train_60.tf.data-00001-of-00002"
   ]
  },
  {
   "cell_type": "code",
   "execution_count": null,
   "metadata": {
    "colab": {},
    "colab_type": "code",
    "id": "yV573BYW3bkG"
   },
   "outputs": [],
   "source": [
    "# !mv loss_best_theft.zip ../../gdrive/My\\ Drive/theft_model_loss_best_frozen.zip\n",
    "!mv val_best_theft.zip ../../gdrive/My\\ Drive/theft_model_val_best.zip"
   ]
  },
  {
   "cell_type": "code",
   "execution_count": null,
   "metadata": {
    "colab": {},
    "colab_type": "code",
    "id": "W7K_8Rvi4DSs"
   },
   "outputs": [],
   "source": [
    "!rm -rf models/checkpoints/theft/*\n",
    "!rm -rf ~/.local/share/Trash/*"
   ]
  },
  {
   "cell_type": "code",
   "execution_count": null,
   "metadata": {
    "colab": {
     "base_uri": "https://localhost:8080/",
     "height": 1000
    },
    "colab_type": "code",
    "id": "U10aOM5Qs5nZ",
    "outputId": "4a40a8c4-2d45-476b-8478-7cbd9dcef304"
   },
   "outputs": [],
   "source": [
    "!python train.py --tiny --transfer=darknet --classes=data/labels/animaltheft.names --epochs=100 --batch_size=32 --weights=models/checkpoints/yolov3_tiny/yolov3_tiny.tf --output=models/checkpoints/theft_tiny --num_classes=3 --weights_num_classes=80"
   ]
  },
  {
   "cell_type": "code",
   "execution_count": null,
   "metadata": {
    "colab": {
     "base_uri": "https://localhost:8080/",
     "height": 187
    },
    "colab_type": "code",
    "id": "_xZ0hHY6AUU5",
    "outputId": "635dd979-08d6-4c4f-e297-2e3429d6bb25"
   },
   "outputs": [],
   "source": [
    "!ls models/checkpoints/theft_tiny/"
   ]
  },
  {
   "cell_type": "code",
   "execution_count": null,
   "metadata": {
    "colab": {
     "base_uri": "https://localhost:8080/",
     "height": 34
    },
    "colab_type": "code",
    "id": "UpPFOZR58yRi",
    "outputId": "055b8ddf-ee05-4fea-a64e-3eadb8c20d30"
   },
   "outputs": [],
   "source": [
    "!ls models/checkpoints"
   ]
  },
  {
   "cell_type": "code",
   "execution_count": null,
   "metadata": {
    "colab": {
     "base_uri": "https://localhost:8080/",
     "height": 68
    },
    "colab_type": "code",
    "id": "84AjVRSn-CYq",
    "outputId": "242dadf1-c175-404a-cd0e-04e427628b82"
   },
   "outputs": [],
   "source": [
    "!zip val_best_theft_tiny.zip models/checkpoints/theft_tiny/yolov3_train_9.tf.index models/checkpoints/theft_tiny/yolov3_train_9.tf.data-00000-of-00002 models/checkpoints/theft_tiny/yolov3_train_9.tf.data-00001-of-00002"
   ]
  },
  {
   "cell_type": "code",
   "execution_count": null,
   "metadata": {
    "colab": {},
    "colab_type": "code",
    "id": "5noxxKWp5amC"
   },
   "outputs": [],
   "source": [
    "# !zip loss_best_theft_tiny.zip models/checkpoints/theft_tiny/yolov3_train_29.tf.index models/checkpoints/theft_tiny/yolov3_train_29.tf.data-00000-of-00002 models/checkpoints/theft_tiny/yolov3_train_29.tf.data-00001-of-00002"
   ]
  },
  {
   "cell_type": "code",
   "execution_count": null,
   "metadata": {
    "colab": {},
    "colab_type": "code",
    "id": "HIM8jyMV5tYN"
   },
   "outputs": [],
   "source": [
    "# !mv loss_best_theft_tiny.zip ../../gdrive/My\\ Drive/theft_tiny_model_loss_best.zip\n",
    "!mv val_best_theft_tiny.zip ../../gdrive/My\\ Drive/theft_tiny_model_val_best.zip"
   ]
  },
  {
   "cell_type": "code",
   "execution_count": null,
   "metadata": {
    "colab": {},
    "colab_type": "code",
    "id": "lSu89TezAB23"
   },
   "outputs": [],
   "source": [
    "!rm -rf models/checkpoints/theft_tiny/*\n",
    "!rm -rf ~/.local/share/Trash/*"
   ]
  },
  {
   "cell_type": "code",
   "execution_count": null,
   "metadata": {
    "colab": {},
    "colab_type": "code",
    "id": "cBIJLodkKuMb"
   },
   "outputs": [],
   "source": []
  }
 ],
 "metadata": {
  "accelerator": "GPU",
  "colab": {
   "collapsed_sections": [],
   "name": "yolov3.ipynb",
   "provenance": []
  },
  "kernelspec": {
   "display_name": "Python 3",
   "language": "python",
   "name": "python3"
  },
  "language_info": {
   "codemirror_mode": {
    "name": "ipython",
    "version": 3
   },
   "file_extension": ".py",
   "mimetype": "text/x-python",
   "name": "python",
   "nbconvert_exporter": "python",
   "pygments_lexer": "ipython3",
   "version": "3.7.4"
  }
 },
 "nbformat": 4,
 "nbformat_minor": 1
}
